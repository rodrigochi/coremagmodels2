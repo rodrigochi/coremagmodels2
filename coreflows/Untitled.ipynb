{
 "cells": [
  {
   "cell_type": "code",
   "execution_count": null,
   "metadata": {},
   "outputs": [],
   "source": [
    "import requests                       # post\n",
    "from bs4 import BeautifulSoup         # manipular html\n",
    "import time                           # sleep\n",
    "\n",
    "# source: https://blog.hartleybrody.com/web-scraping-cheat-sheet/\n",
    "\n",
    "# url and parameters for calculate\n",
    "data1 = dict(\n",
    "    grade1 = '42',\n",
    "    diameter = '20',\n",
    "    units_diameter = 'mm',\n",
    "    thickness = '40',\n",
    "    units_thickness =  'mm',\n",
    "    pos_x = '10',\n",
    "    units_pos_x = 'mm',\n",
    "    pos_y = '20',\n",
    "    units_pos_y = 'mm',\n",
    "    Calculate= 'Calculate')\n",
    "\n",
    "\n",
    "r = requests.post(\"https://www.kjmagnetics.com/fieldcalculator.asp\", data = data1)\n",
    "\n",
    "# check if we got a 200 status\n",
    "print(r.status_code)\n",
    "\n",
    "# get the information from the html \n",
    "soup = BeautifulSoup(r.text, \"html.parser\")\n",
    "div1 = soup.find_all(\"div\", 'moreresults')   # tag to find the reuslts \n",
    "results =  []\n",
    "for th in div1:\n",
    "    results.extend(th.find_all('span'))\n",
    "    \n",
    "mfs1 = results[1].text.strip() # Magnetic Field Strength\n",
    "angle1 = results[3].text.strip() # at an angle of\n",
    "bx1 = results[4].text.strip()\n",
    "by1 = results[5].text.strip()\n",
    "\n",
    "\n",
    "# hint: try different values of grade1 and diameter\n",
    "list_grad1 = [10, 20, 30, 40]\n",
    "list_diam = [40, 30, 20, 10]\n",
    "\n",
    "for i in range(4):\n",
    "    data1['grade1'] = list_grad1[i]\n",
    "    data1['diameter'] = list_diam[i]\n",
    "    print(data1['grade1'], ' - ', data1['diameter'])\n",
    "    \n",
    "    \n",
    "# import sleep the pc for each requests \n",
    "time.sleep(5)  # wait 5 seconds before we make the next request\n",
    "    \n",
    "    \n"
   ]
  },
  {
   "cell_type": "code",
   "execution_count": null,
   "metadata": {},
   "outputs": [],
   "source": []
  }
 ],
 "metadata": {
  "kernelspec": {
   "display_name": "Python 3",
   "language": "python",
   "name": "python3"
  },
  "language_info": {
   "name": ""
  }
 },
 "nbformat": 4,
 "nbformat_minor": 4
}
