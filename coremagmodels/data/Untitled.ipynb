{
 "cells": [
  {
   "cell_type": "code",
   "execution_count": null,
   "id": "greenhouse-taylor",
   "metadata": {},
   "outputs": [],
   "source": [
    "A = 1\n",
    "delta_t = 0\n",
    "H = 140\n",
    "Np = 0.583\n",
    "m = 3;        # angular order\n",
    "Br = 0.6     # radial magnetic field (mT)\n",
    "##\n",
    "\n",
    "T = -20.75"
   ]
  }
 ],
 "metadata": {
  "kernelspec": {
   "display_name": "Python 3",
   "language": "python",
   "name": "python3"
  },
  "language_info": {
   "codemirror_mode": {
    "name": "ipython",
    "version": 3
   },
   "file_extension": ".py",
   "mimetype": "text/x-python",
   "name": "python",
   "nbconvert_exporter": "python",
   "pygments_lexer": "ipython3",
   "version": "3.8.5"
  }
 },
 "nbformat": 4,
 "nbformat_minor": 5
}
